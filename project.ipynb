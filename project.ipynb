{
 "cells": [
  {
   "attachments": {},
   "cell_type": "markdown",
   "id": "innocent-university",
   "metadata": {},
   "source": [
    "# Real Estate Clean up\n",
    "\n",
    "This is a real dataset and it was downloaded using web scraping techniques. The data contains registers from fotocasa which is one of the most popular websites of real estate in Spain. Please, do not do this (web scraping) unless it is for academic purposes.\n",
    "\n",
    "The dataset was downloaded a few years ago by Henry Navarro and In no case were economic returns obtained from it.\n",
    "\n",
    "It contains thousands of data from real houses published on the web www.fotocasa.com. Your goal is to extract as much information as possible with the knowledge you have so far about data science, for example what is the most expensive house in the entire dataset?\n",
    "\n",
    "Let's start with precisely that question... Good luck!"
   ]
  },
  {
   "attachments": {},
   "cell_type": "markdown",
   "id": "multiple-glass",
   "metadata": {},
   "source": [
    "#### Exercise 00. Read the dataset assets/real_estate.csv and try to visualize the table (★☆☆)"
   ]
  },
  {
   "cell_type": "code",
   "execution_count": 3,
   "id": "frank-heath",
   "metadata": {},
   "outputs": [
    {
     "data": {
      "text/html": [
       "<div>\n",
       "<style scoped>\n",
       "    .dataframe tbody tr th:only-of-type {\n",
       "        vertical-align: middle;\n",
       "    }\n",
       "\n",
       "    .dataframe tbody tr th {\n",
       "        vertical-align: top;\n",
       "    }\n",
       "\n",
       "    .dataframe thead th {\n",
       "        text-align: right;\n",
       "    }\n",
       "</style>\n",
       "<table border=\"1\" class=\"dataframe\">\n",
       "  <thead>\n",
       "    <tr style=\"text-align: right;\">\n",
       "      <th></th>\n",
       "      <th>Unnamed: 0</th>\n",
       "      <th>id_realEstates</th>\n",
       "      <th>isNew</th>\n",
       "      <th>realEstate_name</th>\n",
       "      <th>phone_realEstate</th>\n",
       "      <th>url_inmueble</th>\n",
       "      <th>rooms</th>\n",
       "      <th>bathrooms</th>\n",
       "      <th>surface</th>\n",
       "      <th>price</th>\n",
       "      <th>...</th>\n",
       "      <th>level4Id</th>\n",
       "      <th>level5Id</th>\n",
       "      <th>level6Id</th>\n",
       "      <th>level7Id</th>\n",
       "      <th>level8Id</th>\n",
       "      <th>accuracy</th>\n",
       "      <th>latitude</th>\n",
       "      <th>longitude</th>\n",
       "      <th>zipCode</th>\n",
       "      <th>customZone</th>\n",
       "    </tr>\n",
       "  </thead>\n",
       "  <tbody>\n",
       "    <tr>\n",
       "      <th>0</th>\n",
       "      <td>1</td>\n",
       "      <td>153771986</td>\n",
       "      <td>False</td>\n",
       "      <td>ferrari 57 inmobiliaria</td>\n",
       "      <td>912177526.0</td>\n",
       "      <td>https://www.fotocasa.es/es/comprar/vivienda/ma...</td>\n",
       "      <td>3.0</td>\n",
       "      <td>2.0</td>\n",
       "      <td>103.0</td>\n",
       "      <td>195000</td>\n",
       "      <td>...</td>\n",
       "      <td>0</td>\n",
       "      <td>0</td>\n",
       "      <td>0</td>\n",
       "      <td>0</td>\n",
       "      <td>0</td>\n",
       "      <td>0</td>\n",
       "      <td>40,2948276786438</td>\n",
       "      <td>-3,44402412135624</td>\n",
       "      <td>NaN</td>\n",
       "      <td>NaN</td>\n",
       "    </tr>\n",
       "    <tr>\n",
       "      <th>1</th>\n",
       "      <td>2</td>\n",
       "      <td>153867863</td>\n",
       "      <td>False</td>\n",
       "      <td>tecnocasa fuenlabrada ferrocarril</td>\n",
       "      <td>916358736.0</td>\n",
       "      <td>https://www.fotocasa.es/es/comprar/vivienda/ma...</td>\n",
       "      <td>3.0</td>\n",
       "      <td>1.0</td>\n",
       "      <td>NaN</td>\n",
       "      <td>89000</td>\n",
       "      <td>...</td>\n",
       "      <td>0</td>\n",
       "      <td>0</td>\n",
       "      <td>0</td>\n",
       "      <td>0</td>\n",
       "      <td>0</td>\n",
       "      <td>1</td>\n",
       "      <td>40,28674</td>\n",
       "      <td>-3,79351</td>\n",
       "      <td>NaN</td>\n",
       "      <td>NaN</td>\n",
       "    </tr>\n",
       "    <tr>\n",
       "      <th>2</th>\n",
       "      <td>3</td>\n",
       "      <td>153430440</td>\n",
       "      <td>False</td>\n",
       "      <td>look find boadilla</td>\n",
       "      <td>916350408.0</td>\n",
       "      <td>https://www.fotocasa.es/es/comprar/vivienda/ma...</td>\n",
       "      <td>2.0</td>\n",
       "      <td>2.0</td>\n",
       "      <td>99.0</td>\n",
       "      <td>390000</td>\n",
       "      <td>...</td>\n",
       "      <td>0</td>\n",
       "      <td>0</td>\n",
       "      <td>0</td>\n",
       "      <td>0</td>\n",
       "      <td>0</td>\n",
       "      <td>0</td>\n",
       "      <td>40,4115646786438</td>\n",
       "      <td>-3,90662252135624</td>\n",
       "      <td>NaN</td>\n",
       "      <td>NaN</td>\n",
       "    </tr>\n",
       "    <tr>\n",
       "      <th>3</th>\n",
       "      <td>4</td>\n",
       "      <td>152776331</td>\n",
       "      <td>False</td>\n",
       "      <td>tecnocasa fuenlabrada ferrocarril</td>\n",
       "      <td>916358736.0</td>\n",
       "      <td>https://www.fotocasa.es/es/comprar/vivienda/ma...</td>\n",
       "      <td>3.0</td>\n",
       "      <td>1.0</td>\n",
       "      <td>86.0</td>\n",
       "      <td>89000</td>\n",
       "      <td>...</td>\n",
       "      <td>0</td>\n",
       "      <td>0</td>\n",
       "      <td>0</td>\n",
       "      <td>0</td>\n",
       "      <td>0</td>\n",
       "      <td>0</td>\n",
       "      <td>40,2853785786438</td>\n",
       "      <td>-3,79508142135624</td>\n",
       "      <td>NaN</td>\n",
       "      <td>NaN</td>\n",
       "    </tr>\n",
       "    <tr>\n",
       "      <th>4</th>\n",
       "      <td>5</td>\n",
       "      <td>153180188</td>\n",
       "      <td>False</td>\n",
       "      <td>ferrari 57 inmobiliaria</td>\n",
       "      <td>912177526.0</td>\n",
       "      <td>https://www.fotocasa.es/es/comprar/vivienda/ma...</td>\n",
       "      <td>2.0</td>\n",
       "      <td>2.0</td>\n",
       "      <td>106.0</td>\n",
       "      <td>172000</td>\n",
       "      <td>...</td>\n",
       "      <td>0</td>\n",
       "      <td>0</td>\n",
       "      <td>0</td>\n",
       "      <td>0</td>\n",
       "      <td>0</td>\n",
       "      <td>0</td>\n",
       "      <td>40,2998774864376</td>\n",
       "      <td>-3,45226301356237</td>\n",
       "      <td>NaN</td>\n",
       "      <td>NaN</td>\n",
       "    </tr>\n",
       "    <tr>\n",
       "      <th>...</th>\n",
       "      <td>...</td>\n",
       "      <td>...</td>\n",
       "      <td>...</td>\n",
       "      <td>...</td>\n",
       "      <td>...</td>\n",
       "      <td>...</td>\n",
       "      <td>...</td>\n",
       "      <td>...</td>\n",
       "      <td>...</td>\n",
       "      <td>...</td>\n",
       "      <td>...</td>\n",
       "      <td>...</td>\n",
       "      <td>...</td>\n",
       "      <td>...</td>\n",
       "      <td>...</td>\n",
       "      <td>...</td>\n",
       "      <td>...</td>\n",
       "      <td>...</td>\n",
       "      <td>...</td>\n",
       "      <td>...</td>\n",
       "      <td>...</td>\n",
       "    </tr>\n",
       "    <tr>\n",
       "      <th>15330</th>\n",
       "      <td>15331</td>\n",
       "      <td>153901377</td>\n",
       "      <td>False</td>\n",
       "      <td>infocasa consulting</td>\n",
       "      <td>911360461.0</td>\n",
       "      <td>https://www.fotocasa.es/es/comprar/vivienda/ma...</td>\n",
       "      <td>2.0</td>\n",
       "      <td>1.0</td>\n",
       "      <td>96.0</td>\n",
       "      <td>259470</td>\n",
       "      <td>...</td>\n",
       "      <td>0</td>\n",
       "      <td>0</td>\n",
       "      <td>0</td>\n",
       "      <td>0</td>\n",
       "      <td>0</td>\n",
       "      <td>0</td>\n",
       "      <td>40,45416</td>\n",
       "      <td>-3,70286</td>\n",
       "      <td>NaN</td>\n",
       "      <td>NaN</td>\n",
       "    </tr>\n",
       "    <tr>\n",
       "      <th>15331</th>\n",
       "      <td>15332</td>\n",
       "      <td>150394373</td>\n",
       "      <td>False</td>\n",
       "      <td>inmobiliaria pulpon</td>\n",
       "      <td>912788039.0</td>\n",
       "      <td>https://www.fotocasa.es/es/comprar/vivienda/ma...</td>\n",
       "      <td>3.0</td>\n",
       "      <td>1.0</td>\n",
       "      <td>150.0</td>\n",
       "      <td>165000</td>\n",
       "      <td>...</td>\n",
       "      <td>0</td>\n",
       "      <td>0</td>\n",
       "      <td>0</td>\n",
       "      <td>0</td>\n",
       "      <td>0</td>\n",
       "      <td>0</td>\n",
       "      <td>40,36652</td>\n",
       "      <td>-3,48951</td>\n",
       "      <td>NaN</td>\n",
       "      <td>NaN</td>\n",
       "    </tr>\n",
       "    <tr>\n",
       "      <th>15332</th>\n",
       "      <td>15333</td>\n",
       "      <td>153901397</td>\n",
       "      <td>False</td>\n",
       "      <td>tecnocasa torrelodones</td>\n",
       "      <td>912780348.0</td>\n",
       "      <td>https://www.fotocasa.es/es/comprar/vivienda/ma...</td>\n",
       "      <td>4.0</td>\n",
       "      <td>2.0</td>\n",
       "      <td>175.0</td>\n",
       "      <td>495000</td>\n",
       "      <td>...</td>\n",
       "      <td>0</td>\n",
       "      <td>0</td>\n",
       "      <td>0</td>\n",
       "      <td>0</td>\n",
       "      <td>0</td>\n",
       "      <td>0</td>\n",
       "      <td>40,57444</td>\n",
       "      <td>-3,92124</td>\n",
       "      <td>NaN</td>\n",
       "      <td>NaN</td>\n",
       "    </tr>\n",
       "    <tr>\n",
       "      <th>15333</th>\n",
       "      <td>15334</td>\n",
       "      <td>152607440</td>\n",
       "      <td>False</td>\n",
       "      <td>inmobiliaria pulpon</td>\n",
       "      <td>912788039.0</td>\n",
       "      <td>https://www.fotocasa.es/es/comprar/vivienda/ma...</td>\n",
       "      <td>3.0</td>\n",
       "      <td>2.0</td>\n",
       "      <td>101.0</td>\n",
       "      <td>195000</td>\n",
       "      <td>...</td>\n",
       "      <td>0</td>\n",
       "      <td>0</td>\n",
       "      <td>0</td>\n",
       "      <td>0</td>\n",
       "      <td>0</td>\n",
       "      <td>0</td>\n",
       "      <td>40,36967</td>\n",
       "      <td>-3,48105</td>\n",
       "      <td>NaN</td>\n",
       "      <td>NaN</td>\n",
       "    </tr>\n",
       "    <tr>\n",
       "      <th>15334</th>\n",
       "      <td>15335</td>\n",
       "      <td>153901356</td>\n",
       "      <td>False</td>\n",
       "      <td>infocasa consulting</td>\n",
       "      <td>911360461.0</td>\n",
       "      <td>https://www.fotocasa.es/es/comprar/vivienda/ma...</td>\n",
       "      <td>3.0</td>\n",
       "      <td>2.0</td>\n",
       "      <td>152.0</td>\n",
       "      <td>765000</td>\n",
       "      <td>...</td>\n",
       "      <td>0</td>\n",
       "      <td>0</td>\n",
       "      <td>0</td>\n",
       "      <td>0</td>\n",
       "      <td>0</td>\n",
       "      <td>0</td>\n",
       "      <td>40,45773</td>\n",
       "      <td>-3,69068</td>\n",
       "      <td>NaN</td>\n",
       "      <td>NaN</td>\n",
       "    </tr>\n",
       "  </tbody>\n",
       "</table>\n",
       "<p>15335 rows × 37 columns</p>\n",
       "</div>"
      ],
      "text/plain": [
       "       Unnamed: 0  id_realEstates  isNew                    realEstate_name  \\\n",
       "0               1       153771986  False            ferrari 57 inmobiliaria   \n",
       "1               2       153867863  False  tecnocasa fuenlabrada ferrocarril   \n",
       "2               3       153430440  False                 look find boadilla   \n",
       "3               4       152776331  False  tecnocasa fuenlabrada ferrocarril   \n",
       "4               5       153180188  False            ferrari 57 inmobiliaria   \n",
       "...           ...             ...    ...                                ...   \n",
       "15330       15331       153901377  False                infocasa consulting   \n",
       "15331       15332       150394373  False                inmobiliaria pulpon   \n",
       "15332       15333       153901397  False             tecnocasa torrelodones   \n",
       "15333       15334       152607440  False                inmobiliaria pulpon   \n",
       "15334       15335       153901356  False                infocasa consulting   \n",
       "\n",
       "       phone_realEstate                                       url_inmueble  \\\n",
       "0           912177526.0  https://www.fotocasa.es/es/comprar/vivienda/ma...   \n",
       "1           916358736.0  https://www.fotocasa.es/es/comprar/vivienda/ma...   \n",
       "2           916350408.0  https://www.fotocasa.es/es/comprar/vivienda/ma...   \n",
       "3           916358736.0  https://www.fotocasa.es/es/comprar/vivienda/ma...   \n",
       "4           912177526.0  https://www.fotocasa.es/es/comprar/vivienda/ma...   \n",
       "...                 ...                                                ...   \n",
       "15330       911360461.0  https://www.fotocasa.es/es/comprar/vivienda/ma...   \n",
       "15331       912788039.0  https://www.fotocasa.es/es/comprar/vivienda/ma...   \n",
       "15332       912780348.0  https://www.fotocasa.es/es/comprar/vivienda/ma...   \n",
       "15333       912788039.0  https://www.fotocasa.es/es/comprar/vivienda/ma...   \n",
       "15334       911360461.0  https://www.fotocasa.es/es/comprar/vivienda/ma...   \n",
       "\n",
       "       rooms  bathrooms  surface   price  ... level4Id level5Id level6Id  \\\n",
       "0        3.0        2.0    103.0  195000  ...        0        0        0   \n",
       "1        3.0        1.0      NaN   89000  ...        0        0        0   \n",
       "2        2.0        2.0     99.0  390000  ...        0        0        0   \n",
       "3        3.0        1.0     86.0   89000  ...        0        0        0   \n",
       "4        2.0        2.0    106.0  172000  ...        0        0        0   \n",
       "...      ...        ...      ...     ...  ...      ...      ...      ...   \n",
       "15330    2.0        1.0     96.0  259470  ...        0        0        0   \n",
       "15331    3.0        1.0    150.0  165000  ...        0        0        0   \n",
       "15332    4.0        2.0    175.0  495000  ...        0        0        0   \n",
       "15333    3.0        2.0    101.0  195000  ...        0        0        0   \n",
       "15334    3.0        2.0    152.0  765000  ...        0        0        0   \n",
       "\n",
       "      level7Id level8Id accuracy          latitude          longitude zipCode  \\\n",
       "0            0        0        0  40,2948276786438  -3,44402412135624     NaN   \n",
       "1            0        0        1          40,28674           -3,79351     NaN   \n",
       "2            0        0        0  40,4115646786438  -3,90662252135624     NaN   \n",
       "3            0        0        0  40,2853785786438  -3,79508142135624     NaN   \n",
       "4            0        0        0  40,2998774864376  -3,45226301356237     NaN   \n",
       "...        ...      ...      ...               ...                ...     ...   \n",
       "15330        0        0        0          40,45416           -3,70286     NaN   \n",
       "15331        0        0        0          40,36652           -3,48951     NaN   \n",
       "15332        0        0        0          40,57444           -3,92124     NaN   \n",
       "15333        0        0        0          40,36967           -3,48105     NaN   \n",
       "15334        0        0        0          40,45773           -3,69068     NaN   \n",
       "\n",
       "      customZone  \n",
       "0            NaN  \n",
       "1            NaN  \n",
       "2            NaN  \n",
       "3            NaN  \n",
       "4            NaN  \n",
       "...          ...  \n",
       "15330        NaN  \n",
       "15331        NaN  \n",
       "15332        NaN  \n",
       "15333        NaN  \n",
       "15334        NaN  \n",
       "\n",
       "[15335 rows x 37 columns]"
      ]
     },
     "execution_count": 3,
     "metadata": {},
     "output_type": "execute_result"
    }
   ],
   "source": [
    "import pandas as pd\n",
    "\n",
    "# this CSV file contains semicolons instead of comas as separator\n",
    "ds = pd.read_csv('assets/real_estate.csv', sep=';')\n",
    "ds"
   ]
  },
  {
   "attachments": {},
   "cell_type": "markdown",
   "id": "latin-guest",
   "metadata": {},
   "source": [
    "#### Exercise 01. Which is the most expensive house in the dataset? (★☆☆)\n",
    "\n",
    "Print the address and the price of the selected house. For example:\n",
    "\n",
    "`The house with address General Street Nº5 is the most expensive and its price is 5000000 USD`"
   ]
  },
  {
   "cell_type": "code",
   "execution_count": 37,
   "id": "developing-optimum",
   "metadata": {},
   "outputs": [
    {
     "name": "stdout",
     "output_type": "stream",
     "text": [
      "The house with address El Escorialis the most expensive and its price is 8500000 USD\n"
     ]
    }
   ],
   "source": [
    "import pandas as pd\n",
    "\n",
    "# this CSV file contains semicolons instead of comas as separator\n",
    "ds = pd.read_csv('assets/real_estate.csv', sep=';')\n",
    "\n",
    "maxprice = ds['price'].max()\n",
    "indexmacprice = ds['price'].idxmax()\n",
    "address = ds['address'][indexmacprice]\n",
    "\n",
    "print('The house with address ' + str(address) + ' is the most expensive and its price is ' + str(maxprice) + ' USD')\n"
   ]
  },
  {
   "attachments": {},
   "cell_type": "markdown",
   "id": "lesser-cosmetic",
   "metadata": {},
   "source": [
    "#### Exercise 02. Which is cheapest house in the dataset? (★☆☆)\n",
    "\n",
    "Print the address and the price of the selected house. For example:\n",
    "\n",
    "`The house with address Concrete Street Nº1 is the cheapest and its price is 12000 USD`"
   ]
  },
  {
   "cell_type": "code",
   "execution_count": 52,
   "id": "lovely-oasis",
   "metadata": {},
   "outputs": [
    {
     "name": "stdout",
     "output_type": "stream",
     "text": [
      "The house with address Parla is the most expensive and its price is 0 USD\n"
     ]
    }
   ],
   "source": [
    "import pandas as pd\n",
    "\n",
    "# this CSV file contains semicolons instead of comas as separator\n",
    "ds = pd.read_csv('assets/real_estate.csv', sep=';')\n",
    "\n",
    "minprice = ds['price'].min()\n",
    "indexminprice = ds['price'].idxmin()\n",
    "address = ds['address'][indexminprice]\n",
    "\n",
    "print('The house with address ' + str(address) + ' is the most expensive and its price is ' + str(minprice) + ' USD')"
   ]
  },
  {
   "attachments": {},
   "cell_type": "markdown",
   "id": "compliant-fellowship",
   "metadata": {},
   "source": [
    "#### Exercise 03. Which is the biggest and the smallest house in the dataset? (★☆☆)\n",
    "\n",
    "Print both the address and the surface of the selected houses. For example:\n",
    "\n",
    "`The bigger house is located on Yukka Street Nº10 and its surface is 5000 meters`\n",
    "\n",
    "`The smaller house is located on County Road 1 N and its surface is 200 meters`"
   ]
  },
  {
   "cell_type": "code",
   "execution_count": 1,
   "id": "every-tiffany",
   "metadata": {},
   "outputs": [
    {
     "name": "stdout",
     "output_type": "stream",
     "text": [
      "The bigger house is located on Sevilla la Nueva and its surface is 249000.0 meters\n",
      "The smaller house is located on Calle Amparo,  Madrid Capital and its surface is 15.0 meters\n"
     ]
    }
   ],
   "source": [
    "import pandas as pd\n",
    "\n",
    "# this CSV file contains semicolons instead of comas as separator\n",
    "ds = pd.read_csv('assets/real_estate.csv', sep=';')\n",
    "\n",
    "maxsurface = ds['surface'].max()\n",
    "indexmaxsurface = ds['surface'].idxmax()\n",
    "address = ds['address'][indexmaxsurface]\n",
    "\n",
    "print('The bigger house is located on ' + str(address) + ' and its surface is ' + str(maxsurface) + ' meters')\n",
    "\n",
    "minsurface = ds['surface'].min()\n",
    "indexminsurface = ds['surface'].idxmin()\n",
    "address = ds['address'][indexminsurface]\n",
    "\n",
    "print('The smaller house is located on ' + str(address) + ' and its surface is ' + str(minsurface) + ' meters')\n",
    "\n"
   ]
  },
  {
   "attachments": {},
   "cell_type": "markdown",
   "id": "danish-spirit",
   "metadata": {},
   "source": [
    "#### Exercise 04. How many populations (level5 column) the dataset contains? (★☆☆)\n",
    "\n",
    "Print the name of the populations with comma as separator. For example:\n",
    "\n",
    "`> print(populations)`\n",
    "\n",
    "`population1, population2, population3,...`"
   ]
  },
  {
   "cell_type": "code",
   "execution_count": 1,
   "id": "exciting-accreditation",
   "metadata": {},
   "outputs": [
    {
     "name": "stdout",
     "output_type": "stream",
     "text": [
      "Arganda del Rey, Fuenlabrada, Boadilla del Monte, Las Rozas de Madrid,  Madrid Capital, Villaviciosa de Odón, Pinto, Valdemoro, Navalcarnero, Pozuelo de Alarcón, Torrejón de Ardoz, Navalagamella, San Sebastián de los Reyes, Rivas-vaciamadrid, Alpedrete, Móstoles, San Fernando de Henares, Coslada, Becerril de la Sierra, Alcalá de Henares, Chinchón, Parla, Alcorcón, El Escorial, Leganés, Pedrezuela, Majadahonda, Villanueva de la Cañada, Villanueva del Pardillo, Torrelodones, Moralzarzal, Mejorada del Campo, Aranjuez, Corpa, Getafe, Velilla de San Antonio, Sevilla la Nueva, San Martín de la Vega, Villalbilla, Collado Villalba, Alcobendas, El Molar (Madrid), Moraleja de Enmedio, Algete, Campo Real, Torrejón de la Calzada, Colmenar Viejo, Valdemorillo, Fuente El Saz de Jarama, Tres Cantos, Arroyomolinos (Madrid), Griñón, Paracuellos de Jarama, Guadarrama, Titulcia, Galapagar, Collado Mediano, Los Molinos, San Lorenzo de El Escorial, Loeches, San Martín de Valdeiglesias, Navas del Rey, Bustarviejo, Manzanares El Real, Carabaña, Casarrubuelos, Cercedilla, Fresnedillas de la Oliva, Valdemaqueda, Robledo de Chavela, Miraflores de la Sierra, Humanes de Madrid, Valdetorres de Jarama, San Agustín del Guadalix, Ciempozuelos, Camarma de Esteruelas, Torres de la Alameda, Talamanca de Jarama, El Atazar, Hoyo de Manzanares, El Boalo - Cerceda – Mataelpino, El Álamo, Valdilecha, Valdeolmos-Alalpardo, Guadalix de la Sierra, Belmonte de Tajo, El Vellón, Brunete, Redueña, Morata de Tajuña, Tielmes, Gargantilla del Lozoya, Meco, Venturada, Quijorna, Cenicientos, Torrejón de Velasco, Navacerrada, Santa María de la Alameda, Orusco de Tajuña, Daganzo de Arriba, Villamanta, Anchuelo, Valdaracete, Ajalvir, Los Santos de la Humosa, Villamanrique de Tajo, Colmenar de Oreja, Villa del Prado, Fuentidueña de Tajo, Colmenar del Arroyo, Valdelaguna, Cubas de la Sagra, Valdeavero, Aldea del Fresno, Ribatejada, Torrelaguna, Batres, Pezuela de las Torres, Colmenarejo, Serranillos del Valle, Cobeña, Soto del Real, El Berrueco, Villanueva de Perales, Fresno de Torote - Serracines, Pozuelo del Rey, Pelayos de la Presa, La Cabrera, Nuevo Baztán, Perales de Tajuña, Villaconejos, Villarejo de Salvanés, Cadalso de los Vidrios, Santorcaz, Madarcos, Garganta de los Montes, Puentes Viejas, Torremocha de Jarama, Valdemanco, Braojos, Lozoyuela-navas-sieteiglesias, Piñuécar-gandullas, Valdepiélagos, Valverde de Alcalá, Villar del Olmo, Villamantilla, Horcajo de la Sierra, Gascones, Zarzalejo, Villavieja del Lozoya, Brea de Tajo, Estremera, Chapinería, Navarredonda, Patones, Ambite, Navalafuente, Lozoya, Canencia, Cabanillas de la Sierra, Buitrago del Lozoya, Fresno de Torote, Robregordo, Pinilla del Valle, Rascafría, La Hiruela, Montejo de la Sierra\n"
     ]
    }
   ],
   "source": [
    "import pandas as pd\n",
    "\n",
    "# this CSV file contains semicolons instead of comas as separator\n",
    "ds = pd.read_csv('assets/real_estate.csv', sep=';')\n",
    "\n",
    "unique_populations = ds['level5'].unique()\n",
    "print(', '.join(unique_populations))"
   ]
  },
  {
   "attachments": {},
   "cell_type": "markdown",
   "id": "crazy-blame",
   "metadata": {},
   "source": [
    "#### Exercise 05. Does the dataset contain NAs? (★☆☆)\n",
    "\n",
    "Print a boolean value (`true` or `fase`) followed by the rows/cols that contains NAs."
   ]
  },
  {
   "cell_type": "code",
   "execution_count": 16,
   "id": "transparent-poetry",
   "metadata": {},
   "outputs": [
    {
     "name": "stdout",
     "output_type": "stream",
     "text": [
      "Unnamed: 0: False\n",
      "id_realEstates: False\n",
      "isNew: False\n",
      "realEstate_name: True\n",
      "phone_realEstate: True\n",
      "url_inmueble: False\n",
      "rooms: True\n",
      "bathrooms: True\n",
      "surface: True\n",
      "price: False\n",
      "date: False\n",
      "description: True\n",
      "address: False\n",
      "country: False\n",
      "level1: False\n",
      "level2: False\n",
      "level3: False\n",
      "level4: True\n",
      "level5: False\n",
      "level6: True\n",
      "level7: True\n",
      "level8: True\n",
      "upperLevel: False\n",
      "countryId: False\n",
      "level1Id: False\n",
      "level2Id: False\n",
      "level3Id: False\n",
      "level4Id: False\n",
      "level5Id: False\n",
      "level6Id: False\n",
      "level7Id: False\n",
      "level8Id: False\n",
      "accuracy: False\n",
      "latitude: False\n",
      "longitude: False\n",
      "zipCode: True\n",
      "customZone: True\n"
     ]
    }
   ],
   "source": [
    "import pandas as pd\n",
    "import numpy as np\n",
    "\n",
    "# this CSV file contains semicolons instead of comas as separator\n",
    "ds = pd.read_csv('assets/real_estate.csv', sep=';')\n",
    "\n",
    "\n",
    "\n",
    "for col in ds.columns:\n",
    "    print(f\"{col}: {ds[col].isna().any()}\")\n",
    "            \n"
   ]
  },
  {
   "attachments": {},
   "cell_type": "markdown",
   "id": "italic-hydrogen",
   "metadata": {},
   "source": [
    "#### Exercise 06. Delete the NAs of the dataset, if applicable (★★☆)\n",
    "\n",
    "Print a comparison between the dimensions of the original DataFrame versus the DataFrame after the deletions"
   ]
  },
  {
   "cell_type": "code",
   "execution_count": 2,
   "id": "administrative-roads",
   "metadata": {},
   "outputs": [
    {
     "name": "stdout",
     "output_type": "stream",
     "text": [
      "Before the deletions, the dataset had a shape (15335, 37) and size 567395\n",
      "After the deletions, the dataset had a shape (15335, 25) and size 383375\n"
     ]
    }
   ],
   "source": [
    "import pandas as pd\n",
    "import numpy as np\n",
    "\n",
    "# this CSV file contains semicolons instead of comas as separator\n",
    "ds = pd.read_csv('assets/real_estate.csv', sep=';')\n",
    "\n",
    "\n",
    "print('Before the deletions, the dataset had a shape ' + str(ds.shape) + ' and size ' + str(ds.size))\n",
    "\n",
    "\n",
    "nancolumns = ds.columns[ds.isna().any()].tolist()\n",
    "\n",
    "newds = ds.drop(nancolumns, axis = 1)\n",
    "\n",
    "\n",
    "\n",
    "print('After the deletions, the dataset had a shape ' + str(newds.shape) + ' and size ' + str(newds.size))\n"
   ]
  },
  {
   "attachments": {},
   "cell_type": "markdown",
   "id": "middle-china",
   "metadata": {},
   "source": [
    "#### Exercise 07. Which is the mean of prices in the population (level5 column) of \"Arroyomolinos (Madrid)\"? (★★☆)\n",
    "\n",
    "Print the obtained value"
   ]
  },
  {
   "cell_type": "code",
   "execution_count": 11,
   "id": "nuclear-belief",
   "metadata": {},
   "outputs": [
    {
     "name": "stdout",
     "output_type": "stream",
     "text": [
      "The mean of the prices in Arroyomolinos (Madrid) is 294541.59854014596 USD\n"
     ]
    }
   ],
   "source": [
    "import pandas as pd\n",
    "import numpy as np\n",
    "\n",
    "# this CSV file contains semicolons instead of comas as separator\n",
    "ds = pd.read_csv('assets/real_estate.csv', sep=';')\n",
    "\n",
    "indcs = ds[ds['level5']== 'Arroyomolinos (Madrid)'].index.values\n",
    "pricesmean = ds['price'][indcs].mean()\n",
    "\n",
    "print('The mean of the prices in Arroyomolinos (Madrid) is ' + str(pricesmean) + ' USD')\n"
   ]
  },
  {
   "attachments": {},
   "cell_type": "markdown",
   "id": "concerned-radical",
   "metadata": {},
   "source": [
    "#### Exercise 08. Plot the histogram of prices for the population (level5 column) of \"Arroyomolinos (Madrid)\" and explain what you observe (★★☆)\n",
    "\n",
    "Print the histogram of the prices and write in the Markdown cell a brief analysis about the plot."
   ]
  },
  {
   "cell_type": "code",
   "execution_count": 17,
   "id": "sudden-message",
   "metadata": {},
   "outputs": [
    {
     "data": {
      "image/png": "[encoded data removed]",
      "text/plain": [
       "<Figure size 640x480 with 1 Axes>"
      ]
     },
     "metadata": {},
     "output_type": "display_data"
    }
   ],
   "source": [
    "import pandas as pd\n",
    "import numpy as np\n",
    "import matplotlib.pyplot as plt\n",
    "\n",
    "\n",
    "# this CSV file contains semicolons instead of comas as separator\n",
    "ds = pd.read_csv('assets/real_estate.csv', sep=';')\n",
    "\n",
    "indcs = ds[ds['level5']== 'Arroyomolinos (Madrid)'].index.values\n",
    "prices = ds['price'][indcs]\n",
    "plt.hist(prices, bins = len(prices))\n",
    "\n",
    "plt.title(\"Histogram\")\n",
    "plt.xlabel('Price')\n",
    "plt.ylabel('Arroyomolinos population')\n",
    "plt.show()"
   ]
  },
  {
   "attachments": {},
   "cell_type": "markdown",
   "id": "impressed-combination",
   "metadata": {},
   "source": [
    "The most common price is around 30k USD and it looks slightly gaussian\n"
   ]
  },
  {
   "attachments": {},
   "cell_type": "markdown",
   "id": "actual-edinburgh",
   "metadata": {},
   "source": [
    "#### Exercise 09. Is the average of \"Valdemorillo\" and \"Galapagar\" prices the same? (★★☆)\n",
    "\n",
    "Print the both average prices and then write a conclusion about them"
   ]
  },
  {
   "cell_type": "code",
   "execution_count": 2,
   "id": "numeric-commerce",
   "metadata": {},
   "outputs": [
    {
     "name": "stdout",
     "output_type": "stream",
     "text": [
      "The average price in Valdemorillo is 363860.2931034483 and the average price in Galapagar is 360063.20238095237,\n"
     ]
    }
   ],
   "source": [
    "import pandas as pd\n",
    "import numpy as np\n",
    "\n",
    "# this CSV file contains semicolons instead of comas as separator\n",
    "ds = pd.read_csv('assets/real_estate.csv', sep=';')\n",
    "\n",
    "indcsVAL = ds[ds['level5']== 'Valdemorillo'].index.values\n",
    "meanVAL = ds['price'][indcsVAL].mean()\n",
    "\n",
    "indcsGAL = ds[ds['level5']== 'Galapagar'].index.values\n",
    "meanGAL = ds['price'][indcsGAL].mean()\n",
    "\n",
    "print('The average price in Valdemorillo is ' +str(meanVAL)+ ' and the average price in Galapagar is ' + str(meanGAL) + ', so they are not the same')"
   ]
  },
  {
   "attachments": {},
   "cell_type": "markdown",
   "id": "lonely-article",
   "metadata": {},
   "source": [
    "#### Exercise 10. Is the average of \"Valdemorillo\" and \"Galapagar\" price per square meter (price/m2) the same? (★★☆)\n",
    "\n",
    "Print the both average prices and then write a conclusion about\n",
    "\n",
    "Hint: Create a new column called `pps` (price per square) and then analyse the values"
   ]
  },
  {
   "cell_type": "code",
   "execution_count": 7,
   "id": "hourly-globe",
   "metadata": {},
   "outputs": [
    {
     "name": "stdout",
     "output_type": "stream",
     "text": [
      "The average price in Valdemorillo is 1317.9502109024986 and the average price in Galapagar is 1606.3240303094024, so they are not the same\n"
     ]
    }
   ],
   "source": [
    "import pandas as pd\n",
    "import numpy as np\n",
    "\n",
    "# this CSV file contains semicolons instead of comas as separator\n",
    "ds = pd.read_csv('assets/real_estate.csv', sep=';')\n",
    "\n",
    "ds[\"pps\"] = ds[\"price\"] / ds['surface']\n",
    "\n",
    "indcsVAL = ds[ds['level5']== 'Valdemorillo'].index.values\n",
    "meanVAL = ds['pps'][indcsVAL].mean()\n",
    "\n",
    "indcsGAL = ds[ds['level5']== 'Galapagar'].index.values\n",
    "meanGAL = ds['pps'][indcsGAL].mean()\n",
    "print('The average price in Valdemorillo is ' +str(meanVAL)+ ' and the average price in Galapagar is ' + str(meanGAL) + ', so they are not the same')\n"
   ]
  },
  {
   "attachments": {},
   "cell_type": "markdown",
   "id": "pleasant-invite",
   "metadata": {},
   "source": [
    "#### Exercise 11. Analyse the relation between the surface and the price of the houses (★★☆)\n",
    "\n",
    "Hint: You can make a `scatter plot` and then write a conclusion about it"
   ]
  },
  {
   "cell_type": "code",
   "execution_count": 19,
   "id": "common-drilling",
   "metadata": {},
   "outputs": [
    {
     "data": {
      "image/png": "[encoded data removed]",
      "text/plain": [
       "<Figure size 640x480 with 1 Axes>"
      ]
     },
     "metadata": {},
     "output_type": "display_data"
    }
   ],
   "source": [
    "\n",
    "import pandas as pd\n",
    "import numpy as np\n",
    "import matplotlib.pyplot as plt\n",
    "\n",
    "# this CSV file contains semicolons instead of comas as separator\n",
    "ds = pd.read_csv('assets/real_estate.csv', sep=';')\n",
    "\n",
    "price =[]\n",
    "for prices in ds['price']:\n",
    "    price.append(prices)\n",
    "\n",
    "surface =[]\n",
    "for surfaces in ds['surface']:\n",
    "    surface.append(surfaces)\n",
    "plt.scatter(price, surface)\n",
    "\n",
    "plt.title(\"Relation between surface and price\")\n",
    "plt.xlabel('Price')\n",
    "plt.ylabel('Surface')\n",
    "plt.show()"
   ]
  },
  {
   "attachments": {},
   "cell_type": "markdown",
   "id": "ahead-liquid",
   "metadata": {},
   "source": [
    "The relationship between price and surface is lineal"
   ]
  },
  {
   "attachments": {},
   "cell_type": "markdown",
   "id": "coordinate-sunrise",
   "metadata": {},
   "source": [
    "#### Exercise 12. How many real estate agencies the dataset contains? (★★☆)\n",
    "\n",
    "Print the obtained value"
   ]
  },
  {
   "cell_type": "code",
   "execution_count": 3,
   "id": "valid-honolulu",
   "metadata": {},
   "outputs": [
    {
     "name": "stdout",
     "output_type": "stream",
     "text": [
      "1822\n"
     ]
    }
   ],
   "source": [
    "import pandas as pd\n",
    "import numpy as np\n",
    "import matplotlib.pyplot as plt\n",
    "\n",
    "ds = pd.read_csv('assets/real_estate.csv', sep=';')\n",
    "\n",
    "unique_agencies = ds['realEstate_name'].unique()\n",
    "\n",
    "print(len(unique_agencies))\n",
    "\n"
   ]
  },
  {
   "attachments": {},
   "cell_type": "markdown",
   "id": "binding-ebony",
   "metadata": {},
   "source": [
    "#### Exercise 13. Which is the population (level5 column) that contains the most houses? (★★☆)\n",
    "\n",
    "Print both the population and the number of houses"
   ]
  },
  {
   "cell_type": "code",
   "execution_count": 18,
   "id": "static-perry",
   "metadata": {},
   "outputs": [
    {
     "name": "stdout",
     "output_type": "stream",
     "text": [
      "The population with the higher number of houses is  Madrid Capital and there are 6643 houses\n"
     ]
    }
   ],
   "source": [
    "import pandas as pd\n",
    "import numpy as np\n",
    "import matplotlib.pyplot as plt\n",
    "\n",
    "ds = pd.read_csv('assets/real_estate.csv', sep=';')\n",
    "\n",
    "town = ds['level5'].value_counts().idxmax()\n",
    "number = ds['level5'].value_counts().max()\n",
    "\n",
    "print('The population with the higher number of houses is ' + str(town) + ' and there are ' + str(number) + ' houses')\n"
   ]
  },
  {
   "attachments": {},
   "cell_type": "markdown",
   "id": "entire-classification",
   "metadata": {},
   "source": [
    "#### Exercise 14. Now let's work with the \"south belt\" of madrid. Make a subset of the original DataFrame that contains the following populations (level5 column): \"Fuenlabrada\",\"Leganés\",\"Getafe\",\"Alcorcón\" (★★☆)\n",
    "\n",
    "Hint: Filter the original DataFrame using the column `level5` and the function `isin`"
   ]
  },
  {
   "cell_type": "code",
   "execution_count": 31,
   "id": "binary-input",
   "metadata": {},
   "outputs": [
    {
     "name": "stdout",
     "output_type": "stream",
     "text": [
      "       Unnamed: 0  id_realEstates  isNew  \\\n",
      "1               2       153867863  False   \n",
      "3               4       152776331  False   \n",
      "85             86       153152077  False   \n",
      "94             95       153995577  False   \n",
      "109           110       153586414  False   \n",
      "...           ...             ...    ...   \n",
      "15275       15276       153903887  False   \n",
      "15291       15292       151697757  False   \n",
      "15305       15306       153902389  False   \n",
      "15322       15323       153871864  False   \n",
      "15325       15326       153901467  False   \n",
      "\n",
      "                                 realEstate_name  phone_realEstate  \\\n",
      "1              tecnocasa fuenlabrada ferrocarril       916358736.0   \n",
      "3              tecnocasa fuenlabrada ferrocarril       916358736.0   \n",
      "85                       sinergical inmobiliaria               NaN   \n",
      "94                               viviendas365com       911226014.0   \n",
      "109              area uno asesores inmobiliarios       912664081.0   \n",
      "...                                          ...               ...   \n",
      "15275  aliseda servicios de gestion inmobiliaria       911368198.0   \n",
      "15291                                    unipiso       912788631.0   \n",
      "15305                             jadein ferrero       914871639.0   \n",
      "15322                          gestion comercial       911220662.0   \n",
      "15325                              montehogar 68       911790675.0   \n",
      "\n",
      "                                            url_inmueble  rooms  bathrooms  \\\n",
      "1      https://www.fotocasa.es/es/comprar/vivienda/ma...    3.0        1.0   \n",
      "3      https://www.fotocasa.es/es/comprar/vivienda/ma...    3.0        1.0   \n",
      "85     https://www.fotocasa.es/es/comprar/vivienda/le...    1.0        1.0   \n",
      "94     https://www.fotocasa.es/es/comprar/vivienda/le...    3.0        2.0   \n",
      "109    https://www.fotocasa.es/es/comprar/vivienda/ma...    3.0        3.0   \n",
      "...                                                  ...    ...        ...   \n",
      "15275  https://www.fotocasa.es/es/comprar/vivienda/al...    3.0        1.0   \n",
      "15291  https://www.fotocasa.es/es/comprar/vivienda/al...    3.0        2.0   \n",
      "15305  https://www.fotocasa.es/es/comprar/vivienda/ma...    3.0        2.0   \n",
      "15322  https://www.fotocasa.es/es/comprar/vivienda/ma...    3.0        1.0   \n",
      "15325  https://www.fotocasa.es/es/comprar/vivienda/ma...    2.0        2.0   \n",
      "\n",
      "       surface   price  ... level4Id level5Id level6Id level7Id level8Id  \\\n",
      "1          NaN   89000  ...        0        0        0        0        0   \n",
      "3         86.0   89000  ...        0        0        0        0        0   \n",
      "85        50.0  107000  ...        0        0        0        0        0   \n",
      "94       120.0  320000  ...        0        0        0        0        0   \n",
      "109      142.0  425000  ...        0        0        0        0        0   \n",
      "...        ...     ...  ...      ...      ...      ...      ...      ...   \n",
      "15275     78.0  138000  ...        0        0        0        0        0   \n",
      "15291    110.0  279000  ...        0        0        0        0        0   \n",
      "15305     85.0  170000  ...        0        0        0        0        0   \n",
      "15322     91.0  112000  ...        0        0        0        0        0   \n",
      "15325     99.0  215000  ...        0        0        0        0        0   \n",
      "\n",
      "      accuracy          latitude          longitude zipCode customZone  \n",
      "1            1          40,28674           -3,79351     NaN        NaN  \n",
      "3            0  40,2853785786438  -3,79508142135624     NaN        NaN  \n",
      "85           1          40,35059           -3,82693     NaN        NaN  \n",
      "94           0          40,31933           -3,77574     NaN        NaN  \n",
      "109          0        40,3313411         -3,8313868     NaN        NaN  \n",
      "...        ...               ...                ...     ...        ...  \n",
      "15275        1          40,31381           -3,83733     NaN        NaN  \n",
      "15291        0        40,3259051           -3,76318     NaN        NaN  \n",
      "15305        0        40,2882193         -3,8098617     NaN        NaN  \n",
      "15322        0          40,28282           -3,78892     NaN        NaN  \n",
      "15325        1          40,28062           -3,79869     NaN        NaN  \n",
      "\n",
      "[907 rows x 37 columns]\n"
     ]
    }
   ],
   "source": [
    "import pandas as pd\n",
    "import numpy as np\n",
    "import matplotlib.pyplot as plt\n",
    "\n",
    "ds = pd.read_csv('assets/real_estate.csv', sep=';')\n",
    "\n",
    "\n",
    "subset = ds[(ds['level5'] == 'Fuenlabrada') | (ds['level5'] == 'Leganés') | (ds['level5'] == 'Getafe') |  (ds['level5'] == 'Alcorcón')]\n",
    "print(subset)"
   ]
  },
  {
   "attachments": {},
   "cell_type": "markdown",
   "id": "severe-fisher",
   "metadata": {},
   "source": [
    "#### Exercise 15. Make a bar plot of the median of the prices and explain what you observe (you must use the subset obtained in the question 14) (★★★)\n",
    "\n",
    "Print the bar of the median of the prices and write in the Markdown cell a brief analysis about the plot"
   ]
  },
  {
   "cell_type": "code",
   "execution_count": 33,
   "id": "lyric-bunch",
   "metadata": {},
   "outputs": [
    {
     "data": {
      "image/png": "[encoded data removed]",
      "text/plain": [
       "<Figure size 640x480 with 1 Axes>"
      ]
     },
     "metadata": {},
     "output_type": "display_data"
    }
   ],
   "source": [
    "import pandas as pd\n",
    "import numpy as np\n",
    "import matplotlib.pyplot as plt\n",
    "\n",
    "ds = pd.read_csv('assets/real_estate.csv', sep=';')\n",
    "\n",
    "\n",
    "subset = ds[(ds['level5'] == 'Fuenlabrada') | (ds['level5'] == 'Leganés') | (ds['level5'] == 'Getafe') |  (ds['level5'] == 'Alcorcón')]\n",
    "\n",
    "indcsFUEN= subset[subset['level5']== 'Fuenlabrada'].index.values\n",
    "meanFUEN = subset['price'][indcsFUEN].mean()\n",
    "\n",
    "indcsLEG= subset[subset['level5']== 'Leganés'].index.values\n",
    "meanLEG = subset['price'][indcsLEG].mean()\n",
    "\n",
    "indcsGET= subset[subset['level5']== 'Getafe'].index.values\n",
    "meanGET = subset['price'][indcsGET].mean()\n",
    "\n",
    "indcsALC= subset[subset['level5']== 'Alcorcón'].index.values\n",
    "meanALC = subset['price'][indcsALC].mean()\n",
    "\n",
    "means = [meanFUEN, meanLEG, meanGET, meanALC]\n",
    "Places = ['Fuenlabrada', 'Leganés', 'Getafe', 'Alcorcón']\n",
    "\n",
    "\n",
    "\n",
    "plt.bar(Places, means)\n",
    "plt.xlabel('Towns')\n",
    "plt.ylabel('Mean price')\n",
    "plt.title(\"Means\")\n",
    "plt.show()\n",
    "\n",
    "\n"
   ]
  },
  {
   "attachments": {},
   "cell_type": "markdown",
   "id": "sublime-newspaper",
   "metadata": {},
   "source": [
    "The average higher price belongs to Getafe, whereas the cheapest houses on average are in Fuenlabrada"
   ]
  },
  {
   "attachments": {},
   "cell_type": "markdown",
   "id": "speaking-diamond",
   "metadata": {},
   "source": [
    "#### Exercise 16. Calculate the sample mean and variance of the variables: price, rooms, surface area and bathrooms (you must use the subset obtained in the question 14) (★★★)\n",
    "\n",
    "Print both values for each variable"
   ]
  },
  {
   "cell_type": "code",
   "execution_count": 38,
   "id": "random-feeling",
   "metadata": {},
   "outputs": [
    {
     "name": "stdout",
     "output_type": "stream",
     "text": [
      "Price: mean = 223094.48070562293 and variance = 14921367508.04902\n",
      "Rooms: mean = 3.0177383592017737 and variance = 0.7188858892927542\n",
      "Surface: mean = 111.75222363405337 and variance = 4263.051760316337\n",
      "Bathrooms: mean = 1.633221850613155 and variance = 0.5717968625577321\n"
     ]
    }
   ],
   "source": [
    "import pandas as pd\n",
    "import numpy as np\n",
    "import matplotlib.pyplot as plt\n",
    "import statistics\n",
    "\n",
    "ds = pd.read_csv('assets/real_estate.csv', sep=';')\n",
    "\n",
    "\n",
    "subset = ds[(ds['level5'] == 'Fuenlabrada') | (ds['level5'] == 'Leganés') | (ds['level5'] == 'Getafe') |  (ds['level5'] == 'Alcorcón')]\n",
    "\n",
    "pricemean = subset['price'].mean()\n",
    "pricevar = subset['price'].var()\n",
    "print('Price: mean = ' + str(pricemean) + ' and variance = ' + str(pricevar))\n",
    "\n",
    "roommean = subset['rooms'].mean()\n",
    "roomvar = subset['rooms'].var()\n",
    "print('Rooms: mean = ' + str(roommean) + ' and variance = ' + str(roomvar))\n",
    "\n",
    "surfmmean = subset['surface'].mean()\n",
    "surfvar = subset['surface'].var()\n",
    "print('Surface: mean = ' + str(surfmmean) + ' and variance = ' + str(surfvar))\n",
    "\n",
    "bathmean = subset['bathrooms'].mean()\n",
    "bathvar = subset['bathrooms'].var()\n",
    "print('Bathrooms: mean = ' + str(bathmean) + ' and variance = ' + str(bathvar))"
   ]
  },
  {
   "attachments": {},
   "cell_type": "markdown",
   "id": "revolutionary-matrix",
   "metadata": {},
   "source": [
    "#### Exercise 17. What is the most expensive house of each population? You must use the subset obtained in the question 14 (★★☆)\n",
    "\n",
    "Print both the address and the price of the selected house of each population. You can print a DataFrame or a single line for each population"
   ]
  },
  {
   "cell_type": "code",
   "execution_count": 52,
   "id": "fifteen-browse",
   "metadata": {},
   "outputs": [
    {
     "name": "stdout",
     "output_type": "stream",
     "text": [
      "The most expensive house in Fuenlabrada costs 490000 and its address is Calle de Paulo Freire, 5, Fuenlabrada\n",
      "The most expensive house in Alcorcón costs 950000 and its address is Alcorcón\n",
      "The most expensive house in Leganés costs 650000 and its address is Avenida Reina Sofía, Leganés\n",
      "The most expensive house in Getafe costs 1050000 and its address is Getafe\n"
     ]
    }
   ],
   "source": [
    "import pandas as pd\n",
    "import numpy as np\n",
    "import matplotlib.pyplot as plt\n",
    "import statistics\n",
    "\n",
    "ds = pd.read_csv('assets/real_estate.csv', sep=';')\n",
    "\n",
    "\n",
    "subset = ds[(ds['level5'] == 'Fuenlabrada') | (ds['level5'] == 'Leganés') | (ds['level5'] == 'Getafe') |  (ds['level5'] == 'Alcorcón')]\n",
    "\n",
    "FUE = subset[subset['level5'] == 'Fuenlabrada']\n",
    "maxFUE = FUE['price'].max()\n",
    "maxFUENidx = FUE['price'].idxmax()\n",
    "addressFUEN = subset['address'][maxFUENidx]\n",
    "\n",
    "print('The most expensive house in Fuenlabrada costs ' + str(maxFUE) + ' and its address is ' +str(addressFUEN))\n",
    "\n",
    "ALC = subset[subset['level5'] == 'Alcorcón']\n",
    "maxALC = ALC['price'].max()\n",
    "maxALCidx = ALC['price'].idxmax()\n",
    "addressALC = subset['address'][maxALCidx]\n",
    "\n",
    "print('The most expensive house in Alcorcón costs ' + str(maxALC) + ' and its address is ' +str(addressALC))\n",
    "\n",
    "LEG = subset[subset['level5'] == 'Leganés']\n",
    "maxLEG = LEG['price'].max()\n",
    "maxLEGidx = LEG['price'].idxmax()\n",
    "addressLEG  = subset['address'][maxLEGidx]\n",
    "\n",
    "print('The most expensive house in Leganés costs ' + str(maxLEG) + ' and its address is ' +str(addressLEG))\n",
    "\n",
    "GET = subset[subset['level5'] == 'Getafe']\n",
    "maxGET = GET['price'].max()\n",
    "maxGETidx = GET['price'].idxmax()\n",
    "addressGET = subset['address'][maxGETidx]\n",
    "\n",
    "print('The most expensive house in Getafe costs ' + str(maxGET) + ' and its address is ' +str(addressGET))"
   ]
  },
  {
   "attachments": {},
   "cell_type": "markdown",
   "id": "activated-knight",
   "metadata": {},
   "source": [
    "#### Exercise 18. Normalize the variable of prices for each population and plot the 4 histograms in the same plot (you must use the subset obtained in the question 14) (★★★)\n",
    "\n",
    "For the normalization method you can use the one you consider to, there is not a single correct answer to this question. Print the plot and write in the Markdown cell a brief analysis about the plot\n",
    "\n",
    "Hint: You can help yourself reviewing the multihist demo of Matplotlib"
   ]
  },
  {
   "cell_type": "code",
   "execution_count": 4,
   "id": "civic-meditation",
   "metadata": {},
   "outputs": [
    {
     "data": {
      "image/png": "[encoded data removed]",
      "text/plain": [
       "<Figure size 640x480 with 1 Axes>"
      ]
     },
     "metadata": {},
     "output_type": "display_data"
    }
   ],
   "source": [
    "import pandas as pd\n",
    "import numpy as np\n",
    "import matplotlib.pyplot as plt\n",
    "import statistics\n",
    "\n",
    "ds = pd.read_csv('assets/real_estate.csv', sep=';')\n",
    "\n",
    "\n",
    "subset = ds[(ds['level5'] == 'Fuenlabrada') | (ds['level5'] == 'Leganés') | (ds['level5'] == 'Getafe') |  (ds['level5'] == 'Alcorcón')]\n",
    "\n",
    "FUE = subset[subset['level5'] == 'Fuenlabrada']\n",
    "priceFUE = FUE['price']\n",
    "\n",
    "ALC = subset[subset['level5'] == 'Alcorcón']\n",
    "priceALC = ALC['price']\n",
    "\n",
    "LEG = subset[subset['level5'] == 'Leganés']\n",
    "priceLEG = LEG['price']\n",
    "\n",
    "\n",
    "GET = subset[subset['level5'] == 'Getafe']\n",
    "priceGET = GET['price']\n",
    "\n",
    "plt.hist(priceFUE, alpha=0.5, density= True, label='Fuenlabrada')\n",
    "plt.hist(priceALC, alpha=0.5, density= True,label='Alcorcón')\n",
    "plt.hist(priceLEG, alpha=0.5, density= True,label='Leganés')\n",
    "plt.hist(priceGET, alpha=0.5, density= True,label='Getafe')\n",
    "plt.legend()\n",
    "plt.xlabel('Price')\n",
    "plt.ylabel('Normalised number of houses')\n",
    "plt.show()\n"
   ]
  },
  {
   "attachments": {},
   "cell_type": "markdown",
   "id": "precise-heavy",
   "metadata": {},
   "source": [
    "The most expensive houses are in Getafe. However, the most common price in general in the south belt of Madrid is around 150k\n"
   ]
  },
  {
   "attachments": {},
   "cell_type": "markdown",
   "id": "patent-jonathan",
   "metadata": {},
   "source": [
    "#### Exercise 19. What can you say about the price per square meter (price/m2) between the towns of \"Getafe\" and \"Alcorcón\"? You must use the subset obtained in the question 14 (★★☆)\n",
    "\n",
    "Hint: Create a new column called `pps` (price per square) and then analyse the values"
   ]
  },
  {
   "cell_type": "code",
   "execution_count": 12,
   "id": "initial-liverpool",
   "metadata": {},
   "outputs": [
    {
     "name": "stderr",
     "output_type": "stream",
     "text": [
      "/tmp/ipykernel_636/3990067957.py:10: SettingWithCopyWarning: \n",
      "A value is trying to be set on a copy of a slice from a DataFrame.\n",
      "Try using .loc[row_indexer,col_indexer] = value instead\n",
      "\n",
      "See the caveats in the documentation: https://pandas.pydata.org/pandas-docs/stable/user_guide/indexing.html#returning-a-view-versus-a-copy\n",
      "  subset[\"pps\"] = subset[\"price\"] / subset['surface']\n"
     ]
    },
    {
     "data": {
      "image/png": "[encoded data removed]",
      "text/plain": [
       "<Figure size 640x480 with 2 Axes>"
      ]
     },
     "metadata": {},
     "output_type": "display_data"
    },
    {
     "name": "stdout",
     "output_type": "stream",
     "text": [
      "The price per square meter is more expensive in Getafe\n"
     ]
    }
   ],
   "source": [
    "import pandas as pd\n",
    "import numpy as np\n",
    "import matplotlib.pyplot as plt\n",
    "\n",
    "ds = pd.read_csv('assets/real_estate.csv', sep=';')\n",
    "\n",
    "\n",
    "subset = ds[(ds['level5'] == 'Fuenlabrada') | (ds['level5'] == 'Leganés') | (ds['level5'] == 'Getafe') |  (ds['level5'] == 'Alcorcón')]\n",
    "\n",
    "subset[\"pps\"] = subset[\"price\"] / subset['surface']\n",
    "\n",
    "indcsGET = subset[subset['level5']== 'Getafe'].index.values\n",
    "ppsGET = subset['pps'][indcsGET]\n",
    "\n",
    "indcsALC = subset[subset['level5']== 'Alcorcón'].index.values\n",
    "ppsALC = subset['pps'][indcsALC]\n",
    "\n",
    "fig, ((ax0, ax1)) = plt.subplots(nrows=1, ncols=2)\n",
    "ax0.hist(ppsALC, density = True)\n",
    "ax0.set_title('Alcorcón')\n",
    "\n",
    "\n",
    "ax1.hist(ppsGET, density = True)\n",
    "ax1.set_title('Getafe')\n",
    "\n",
    "\n",
    "plt.show()\n",
    "print('The price per square meter is more expensive in Getafe')\n"
   ]
  },
  {
   "attachments": {},
   "cell_type": "markdown",
   "id": "enhanced-moscow",
   "metadata": {},
   "source": [
    "#### Exercise 20. Make the same plot for 4 different populations (level5 column) and rearrange them on the same graph? You must use the subset obtained in the question 14 (★★☆) \n",
    "Hint: make a scatter plot of each population using subplots."
   ]
  },
  {
   "cell_type": "code",
   "execution_count": 2,
   "id": "accepting-airfare",
   "metadata": {},
   "outputs": [
    {
     "name": "stderr",
     "output_type": "stream",
     "text": [
      "/tmp/ipykernel_653/3951561801.py:11: SettingWithCopyWarning: \n",
      "A value is trying to be set on a copy of a slice from a DataFrame.\n",
      "Try using .loc[row_indexer,col_indexer] = value instead\n",
      "\n",
      "See the caveats in the documentation: https://pandas.pydata.org/pandas-docs/stable/user_guide/indexing.html#returning-a-view-versus-a-copy\n",
      "  subset[\"pps\"] = subset[\"price\"] / subset['surface']\n"
     ]
    },
    {
     "data": {
      "image/png": "[encoded data removed]",
      "text/plain": [
       "<Figure size 640x480 with 4 Axes>"
      ]
     },
     "metadata": {},
     "output_type": "display_data"
    }
   ],
   "source": [
    "import pandas as pd\n",
    "import numpy as np\n",
    "import matplotlib.pyplot as plt\n",
    "\n",
    "ds = pd.read_csv('assets/real_estate.csv', sep=';')\n",
    "\n",
    "\n",
    "subset = ds[(ds['level5'] == 'Fuenlabrada') | (ds['level5'] == 'Leganés') | (ds['level5'] == 'Getafe') |  (ds['level5'] == 'Alcorcón')]\n",
    "\n",
    "\n",
    "subset[\"pps\"] = subset[\"price\"] / subset['surface']\n",
    "\n",
    "indcsGET = subset[subset['level5']== 'Getafe'].index.values\n",
    "ppsGET = subset['pps'][indcsGET]\n",
    "\n",
    "indcsALC = subset[subset['level5']== 'Alcorcón'].index.values\n",
    "ppsALC = subset['pps'][indcsALC]\n",
    "\n",
    "indcsFUEN = subset[subset['level5']== 'Fuenlabrada'].index.values\n",
    "ppsFUEN = subset['pps'][indcsFUEN]\n",
    "\n",
    "indcsLEG = subset[subset['level5']== 'Leganés'].index.values\n",
    "ppsLEG = subset['pps'][indcsLEG] \n",
    "\n",
    "fig, ((ax0, ax1), (ax2, ax3)) = plt.subplots(nrows=2, ncols=2)\n",
    "ax0.hist(ppsALC, density = True)\n",
    "ax0.set_title('Alcorcón')\n",
    "\n",
    "\n",
    "ax1.hist(ppsGET, density = True)\n",
    "ax1.set_title('Getafe')\n",
    "\n",
    "ax2.hist(ppsFUEN, density = True)\n",
    "ax2.set_title('Fuenlabrada')\n",
    "\n",
    "\n",
    "ax3.hist(ppsLEG, density = True)\n",
    "ax3.set_title('Leganés')\n",
    "\n",
    "plt.show()\n"
   ]
  },
  {
   "attachments": {},
   "cell_type": "markdown",
   "id": "blocked-effects",
   "metadata": {},
   "source": [
    "#### Exercise 21. Make a plot of the coordinates (latitude and longitude columns) of the south belt of Madrid by color of each population (you must use the subset obtained in the question 14) (★★★★)\n",
    "\n",
    "Execute the following cell and then start coding in the next one. You must implement a simple code that transform the coordinates columns in a Python dictionary (add more information if needed) and then add it to the map"
   ]
  },
  {
   "cell_type": "code",
   "execution_count": 19,
   "id": "headed-privacy",
   "metadata": {},
   "outputs": [
    {
     "data": {
      "application/vnd.jupyter.widget-view+json": {
       "model_id": "9dc9ad870ec34a6abfc0dce1e8f4a3eb",
       "version_major": 2,
       "version_minor": 0
      },
      "text/plain": [
       "Map(center=[60, -2.2], controls=(ZoomControl(options=['position', 'zoom_in_text', 'zoom_in_title', 'zoom_out_t…"
      ]
     },
     "execution_count": 19,
     "metadata": {},
     "output_type": "execute_result"
    }
   ],
   "source": [
    "import pandas as pd\n",
    "import numpy as np\n",
    "import matplotlib.pyplot as plt\n",
    "from ipyleaflet import Map, Marker, basemaps\n",
    "\n",
    "# Map centred on (60 degrees latitude et -2.2 degrees longitude)\n",
    "# Latitude, longitude\n",
    "map = Map(center = (60, -2.2), zoom = 2, min_zoom = 1, max_zoom = 20, \n",
    "    basemap=basemaps.Stamen.Terrain)\n",
    "map\n",
    "ds = pd.read_csv('assets/real_estate.csv', sep=';')\n",
    "\n",
    "\n",
    "subset = ds[(ds['level5'] == 'Fuenlabrada') | (ds['level5'] == 'Leganés') | (ds['level5'] == 'Getafe') |  (ds['level5'] == 'Alcorcón')]\n",
    "\n",
    "\n",
    "FUE = subset[subset['level5'] == 'Fuenlabrada']\n",
    "latFUE = [float(x.replace(',', '.')) for x in list(FUE['latitude'])]\n",
    "lonFUE =[float(x.replace(',', '.')) for x in list(FUE['longitude'])]\n",
    "marker =  Marker(location = (latFUE, lonFUE))\n",
    "map.add_layer( marker)\n",
    "map\n",
    "\n",
    "\n"
   ]
  },
  {
   "cell_type": "code",
   "execution_count": 13,
   "id": "present-mistress",
   "metadata": {},
   "outputs": [
    {
     "data": {
      "application/vnd.jupyter.widget-view+json": {
       "model_id": "cebde350ca7144078b87f4a043e2b7fb",
       "version_major": 2,
       "version_minor": 0
      },
      "text/plain": [
       "Map(center=[60, -2.2], controls=(ZoomControl(options=['position', 'zoom_in_text', 'zoom_in_title', 'zoom_out_t…"
      ]
     },
     "execution_count": 13,
     "metadata": {},
     "output_type": "execute_result"
    }
   ],
   "source": [
    "## HERE: plot the coordinates of the estates\n",
    "\n",
    "## PUT HERE YOUR CODE:\n",
    "import pandas as pd\n",
    "import numpy as np\n",
    "import matplotlib.pyplot as plt\n",
    "from ipyleaflet import Map, Marker, basemaps, AwesomeIcon\n",
    "\n",
    "# Map centred on (60 degrees latitude et -2.2 degrees longitude)\n",
    "# Latitude, longitude\n",
    "map = Map(center = (60, -2.2), zoom = 2, min_zoom = 1, max_zoom = 20, \n",
    "    basemap=basemaps.Stamen.Terrain)\n",
    "map\n",
    "ds = pd.read_csv('assets/real_estate.csv', sep=';')\n",
    "\n",
    "\n",
    "subset = ds[(ds['level5'] == 'Fuenlabrada') | (ds['level5'] == 'Leganés') | (ds['level5'] == 'Getafe') |  (ds['level5'] == 'Alcorcón')]\n",
    "\n",
    "\n",
    "FUE = subset[subset['level5'] == 'Fuenlabrada']\n",
    "latFUE = [float(x.replace(',', '.')) for x in list(FUE['latitude'])]\n",
    "lonFUE =[float(x.replace(',', '.')) for x in list(FUE['longitude'])]\n",
    "\n",
    "\n",
    "for i, (lat, long) in enumerate(zip(latFUE, lonFUE)):\n",
    "    color = 'blue'\n",
    "    marker = Marker(location=(lat, long),icon=AwesomeIcon(name='house', marker_color=color), draggable=False)\n",
    "    map.add_layer(marker)\n",
    "\n",
    "ALC = subset[subset['level5'] == 'Alcorcón']\n",
    "latALC = [float(x.replace(',', '.')) for x in list(ALC['latitude'])]\n",
    "lonALC =[float(x.replace(',', '.')) for x in list(ALC['longitude'])]\n",
    "\n",
    "\n",
    "for i, (lat, long) in enumerate(zip(latALC, lonALC)):\n",
    "    color = 'green'\n",
    "    marker = Marker(location=(lat, long),icon=AwesomeIcon(name='house', marker_color=color),draggable=False)\n",
    "    map.add_layer(marker)\n",
    "\n",
    "\n",
    "\n",
    "\n",
    "LEG = subset[subset['level5'] == 'Leganés']\n",
    "latLEG = [float(x.replace(',', '.')) for x in list(LEG['latitude'])]\n",
    "lonLEG =[float(x.replace(',', '.')) for x in list(LEG['longitude'])]\n",
    "\n",
    "\n",
    "for i, (lat, long) in enumerate(zip(latLEG, lonLEG)):\n",
    "    color = 'red'\n",
    "    marker = Marker(location=(lat, long),icon=AwesomeIcon(name='house', marker_color=color),draggable=False)\n",
    "    map.add_layer(marker)\n",
    "\n",
    "\n",
    "GET = subset[subset['level5'] == 'Getafe']\n",
    "latGET = [float(x.replace(',', '.')) for x in list(GET['latitude'])]\n",
    "lonGET =[float(x.replace(',', '.')) for x in list(GET['longitude'])]\n",
    "\n",
    "\n",
    "for i, (lat, long) in enumerate(zip(latGET, lonGET)):\n",
    "    color = 'pink'\n",
    "    marker = Marker(location=(lat, long),icon=AwesomeIcon(name='house', marker_color=color),draggable=False)\n",
    "    map.add_layer(marker)\n",
    "\n",
    "\n",
    "\n",
    "\n",
    "\n",
    "\n",
    "map\n",
    "\n"
   ]
  },
  {
   "cell_type": "markdown",
   "id": "0cbe3405",
   "metadata": {},
   "source": []
  },
  {
   "cell_type": "markdown",
   "id": "7d78578b",
   "metadata": {},
   "source": []
  }
 ],
 "metadata": {
  "kernelspec": {
   "display_name": "Python 3",
   "language": "python",
   "name": "python3"
  },
  "language_info": {
   "codemirror_mode": {
    "name": "ipython",
    "version": 3
   },
   "file_extension": ".py",
   "mimetype": "text/x-python",
   "name": "python",
   "nbconvert_exporter": "python",
   "pygments_lexer": "ipython3",
   "version": "3.11.4"
  }
 },
 "nbformat": 4,
 "nbformat_minor": 5
}
